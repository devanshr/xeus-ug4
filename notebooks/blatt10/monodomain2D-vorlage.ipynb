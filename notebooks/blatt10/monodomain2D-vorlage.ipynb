{
 "cells": [
  {
   "cell_type": "code",
   "execution_count": 3,
   "metadata": {},
   "outputs": [
    {
     "data": {
      "text/plain": []
     },
     "execution_count": 3,
     "metadata": null,
     "output_type": "execute_result"
    }
   ],
   "source": [
    "-- Load utility scripts (e.g. from from ugcore/scripts)\n",
    "ug_load_script(\"ug_util.lua\")\n",
    "ug_load_script(\"util/refinement_util.lua\")\n",
    "\n",
    "\n",
    "-- Initialize with the world dimension dim=2 and the algebra type\n",
    "blockSize = 2 -- select 2 for 2x2 point-block system\n",
    "InitUG(2, AlgebraType(\"CPU\", blockSize));  \n"
   ]
  },
  {
   "cell_type": "code",
   "execution_count": 9,
   "metadata": {},
   "outputs": [
    {
     "data": {
      "text/plain": [
       "Loading Domain grids/laplace_sample_grid_2d.ugx ... done.\n",
       "Performing integrity check on domain ... done.\n",
       "\n",
       "util.refinement: - refining level 0\n",
       "util.refinement: - refining level 1\n",
       "util.refinement: - refining level 2\n",
       "util.refinement: - refining level 3\n"
      ]
     },
     "execution_count": 9,
     "metadata": null,
     "output_type": "execute_result"
    }
   ],
   "source": [
    "-- Parse parameters and print help\n",
    "gridName= \"grids/laplace_sample_grid_2d.ugx\" \n",
    "numRefs\t= 4\n",
    "\n",
    "-- Load a domain without initial refinements.\n",
    "mandatorySubsets = {\"Inner\", \"Boundary\"}\n",
    "dom = util.CreateDomain(gridName, 0, mandatorySubsets)\n",
    "\n",
    "-- Refine the domain (redistribution is handled internally for parallel runs)\n",
    "\n",
    "util.refinement.CreateRegularHierarchy(dom, numRefs, true)"
   ]
  },
  {
   "cell_type": "markdown",
   "metadata": {},
   "source": [
    "\n",
    "## A) Modellparameter\n",
    "Das Ausgangssystem\n",
    "$$ \\chi (C_m \\frac{\\partial V}{\\partial t} + I)  + \\nabla \\cdot [ -\\sigma \\nabla V] = 0$$\n",
    "transformieren wir zunächst in die dimensionslose Unbekannte $u$:\n",
    "\n",
    "\\begin{align}\n",
    "u& := (V-V_r)/(V_p-V_r)\\\\\n",
    "\\Longleftrightarrow V &= (V_p-V_r)*u + V_r\n",
    "\\end{align}\n",
    "Einheiten:\n",
    "* [L] = 1 cm\n",
    "* [T] = 1 ms\n",
    "* [V] = 1 mV\n"
   ]
  },
  {
   "cell_type": "code",
   "execution_count": 15,
   "metadata": {},
   "outputs": [
    {
     "data": {
      "text/plain": [
       "Activation a:0.1\n",
       "ScaleV :100\n",
       "DDiff = 0.001 cm^2/ms\n",
       "tDiff = 1000 ms\n",
       "tReact = 5.7142857142857 ms\n",
       "tReact = 33.333333333333 ms\n",
       "tReact = 1.8181818181818 ms\n",
       "tReactDamp = 42.462845010616 ms\n"
      ]
     },
     "execution_count": 15,
     "metadata": null,
     "output_type": "execute_result"
    }
   ],
   "source": [
    "local VoltPerMilliVolt = 1e-3\n",
    "local Vr = -85   -- mV\n",
    "local Vs = -75   -- mV\n",
    "local Vp =  15   -- mV\n",
    "\n",
    "local scaleV = (Vp-Vr)        -- Skalierung [mV]\n",
    "a = (Vs-Vr)/(Vp-Vr)     -- Anregeschwellwert [1]\n",
    "\n",
    "\n",
    "\n",
    "local Cm  = 1.0 * VoltPerMilliVolt --  uF/cm^2,  where: 1 F=C/V = As / V => 1 mF = ms A/V  => 1 uF = ms * mA /V\n",
    "\n",
    "c1 = 0.175 -- ms^{-1}\n",
    "c2 = 0.03  -- ms^{-1}\n",
    "c3 = 0.011 -- ms^{-1}\n",
    "b = 0.55  -- [1]\n",
    "\n",
    "\n",
    "local sigma = 2.0  * VoltPerMilliVolt  -- mS/cm, 1 [S = A/V => 1 mS = 1 mA / V]\n",
    "local chi = 2000 -- cm^{-1}\n",
    "\n",
    "DDiff = sigma/(Cm*chi)     --    mA/(V*cm) * V/(mA ms) / cm^{-1} = cm^2 / ms \n",
    "local lchar = 1.0 -- characteristic length scale for diffusion\n",
    "tDiff = lchar*lchar/DDiff\n",
    "\n",
    "\n",
    "print (\"Activation a:\"..a)\n",
    "print (\"ScaleV :\"..scaleV)\n",
    "\n",
    "\n",
    "print (\"DDiff = \"..DDiff..\" cm^2/ms\")\n",
    "print (\"tDiff = \"..tDiff..\" ms\")\n",
    "print (\"tReact = \"..1/c1..\" ms\")\n",
    "print (\"tReact = \"..1/c2..\" ms\")\n",
    "print (\"tReact = \"..1/b..\" ms\")\n",
    "print (\"tReactDamp = \"..1/(a*c1+c3*b)..\" ms\")\n",
    "\n",
    "uinfty = 0.0\n",
    "winfty = uinfty / b\n"
   ]
  },
  {
   "cell_type": "markdown",
   "metadata": {},
   "source": [
    "## B) Ansatzraum\n",
    "Mit den Parametern $a,b,c_1,c_2,c_3, \\mathbb D $ lösen wir nun das folgende System:\n",
    "\\begin{align}\n",
    "\\frac{\\partial u}{\\partial t} + \\nabla \\cdot [-\\mathbb D \\nabla u]  &=&  c_1 u (u- a) (1-u)  - c_2 w  \\\\\n",
    "\\frac{\\partial w}{\\partial t}  &=& c_3 (u -b w) \n",
    "\\end{align}\n",
    "Falls $\\mathbb D=0$, so ergeben sich die Gleichgewichte\n",
    "\\begin{align}\n",
    "u_\\infty = 0\\\\\n",
    "w_\\infty = u_\\infty/b = 0\n",
    "\\end{align}"
   ]
  },
  {
   "cell_type": "code",
   "execution_count": 17,
   "metadata": {},
   "outputs": [
    {
     "data": {
      "text/plain": [
       "| ---------------------------------------------------------------------------- |\n",
       "|  Number of DoFs (All Procs)                                                  |\n",
       "|  Algebra: Block 2 (divide by 2 for #Index)                                   |\n",
       "|                                                                              |\n",
       "|    GridLevel   |       Domain |     0: Inner |  1: Boundary                  |\n",
       "| ---------------------------------------------------------------------------- |\n",
       "| (lev,    0)    |            0 |            0 |            0 |\n",
       "| (lev,    1)    |            0 |            0 |            0 |\n",
       "| (lev,    2)    |            0 |            0 |            0 |\n",
       "| (lev,    3)    |            0 |            0 |            0 |\n",
       "| (lev,    4)    |            0 |            0 |            0 |\n",
       "| (lev,    0, g) |            0 |            0 |            0 |\n",
       "| (lev,    1, g) |            0 |            0 |            0 |\n",
       "| (lev,    2, g) |            0 |            0 |            0 |\n",
       "| (lev,    3, g) |            0 |            0 |            0 |\n",
       "| (lev,    4, g) |            0 |            0 |            0 |\n",
       "| (surf, top)    |            0 |            0 |            0 |\n",
       "| ---------------------------------------------------------------------------- |\n",
       "| For Legend and Options: print_statistic(\"legend\").                           |\n",
       "| ---------------------------------------------------------------------------- |\n"
      ]
     },
     "execution_count": 17,
     "metadata": null,
     "output_type": "execute_result"
    }
   ],
   "source": [
    "approxSpace = ApproximationSpace(dom)\n",
    "-- TODO: Add functions\n",
    "\n",
    "approxSpace:init_levels()\n",
    "approxSpace:init_top_surface()\n",
    "approxSpace:print_statistic()"
   ]
  },
  {
   "cell_type": "markdown",
   "metadata": {},
   "source": [
    "## C) Elementdiskretisierung (FV)"
   ]
  },
  {
   "cell_type": "code",
   "execution_count": 12,
   "metadata": {},
   "outputs": [
    {
     "ename": "LUA-ERROR",
     "evalue": "---",
     "output_type": "error",
     "traceback": [
      "LUA-ERROR: ---"
     ]
    },
    {
     "data": {
      "text/plain": [
       "LUA-ERROR! Call stack:\n",
       "   1  buffer:17        \n",
       "LUA-ERROR: \n",
       "[string \"buffer\"]:17: attempt to index field 'u' (a nil value)\n",
       " % ABORTING script parsing.\n"
      ]
     },
     "execution_count": 12,
     "metadata": null,
     "output_type": "execute_result"
    }
   ],
   "source": [
    "elemDisc = {}\n",
    "-- TODO: Define elemDisc[\"u\"], elemDisc[\"w\"]\n",
    "\n",
    "-- elemDisc[\"u\"]:set_mass_scale(1.0)  -- default\n",
    "-- elemDisc[\"w\"]:set_mass_scale(1.0)  -- default\n",
    "\n",
    "-----------------------------------------\n",
    "-- C).1 Diffusionstensor\n",
    "-- Df = sigma/(Cm*chi)  \n",
    "-----------------------------------------\n",
    "local diffTensorU = DDiff  -- for task a)\n",
    "-- TODO: Replace 'diffTensorU' by matrix object for task b)\n",
    "\n",
    "elemDisc[\"u\"]:set_diffusion(diffTensorU)\n",
    "elemDisc[\"w\"]:set_diffusion(0.0)\n",
    "\n",
    "-----------------------------------------\n",
    "-- C).2 Reaktionsterme:\n",
    "-- \\dot u = (c1*u*(u-a)*(1.0-u) - c2*w)\n",
    "-- \\dot w = b*(v - d*w)\n",
    "-----------------------------------------\n",
    "\n",
    "\n",
    "function ReactionU(u,w) \n",
    "  return -- TODO: implement \n",
    "end\n",
    "\n",
    "function ReactionU_dU(u,w) \n",
    "    return -- TODO: implement \n",
    "end\n",
    "\n",
    "function ReactionU_dW(u,w)  \n",
    "  return -- TODO: implement \n",
    "end\n",
    "\n",
    "function ReactionW(u,w) \n",
    "  return -- TODO: implement \n",
    "end\n",
    "\n",
    "function ReactionW_dU(u,w) \n",
    "    return -- TODO: implement \n",
    "end\n",
    "\n",
    "function ReactionW_dW(u,w)  \n",
    "  return -- TODO: implement \n",
    "end\n",
    "\n",
    "\n",
    "\n",
    "local nonlinearGrowth = {}\n",
    "nonlinearGrowth[\"u\"] = LuaUserFunctionNumber(\"ReactionU\", 2)\n",
    "nonlinearGrowth[\"u\"]:set_input(0, elemDisc[\"u\"]:value())\n",
    "nonlinearGrowth[\"u\"]:set_input(1, elemDisc[\"w\"]:value())\n",
    "nonlinearGrowth[\"u\"]:set_deriv(0, \"ReactionU_dU\")\n",
    "nonlinearGrowth[\"u\"]:set_deriv(1, \"ReactionU_dW\")\n",
    "\n",
    "\n",
    "-- TODO: nonlinearGrowth[\"w\"] = ...\n",
    "\n",
    "\n",
    "elemDisc[\"u\"]:set_reaction(nonlinearGrowth[\"u\"])          \n",
    "elemDisc[\"w\"]:set_reaction(nonlinearGrowth[\"w\"])  \n",
    "\n",
    "-----------------------------------------\n",
    "--  C).3 Quellen = Externe Ströme (nicht benutzt!)\n",
    "-- 1.0 / (Cm*scaleV)\n",
    "-----------------------------------------\n",
    "-- function ISourceU(x,y,t,si)  return 0.0/(Cm*scaleV) end\n",
    "-- elemDisc[\"u\"]:set_source(\"ISourceU\") "
   ]
  },
  {
   "cell_type": "markdown",
   "metadata": {},
   "source": [
    "## D) Anfangswerte"
   ]
  },
  {
   "cell_type": "code",
   "execution_count": 13,
   "metadata": {},
   "outputs": [
    {
     "data": {
      "text/plain": []
     },
     "execution_count": 13,
     "metadata": null,
     "output_type": "execute_result"
    }
   ],
   "source": [
    "-- Initial values (\"Anfangswerte\")\n",
    "function MyInitialValueU(x, y)\n",
    " return -- TODO: implement initial value for \"u\"\n",
    "end\n",
    "\n",
    "function MyInitialValueW(x, y)\n",
    "  return winfty \n",
    "end\n"
   ]
  },
  {
   "cell_type": "markdown",
   "metadata": {},
   "source": [
    "## E) Randwerte"
   ]
  },
  {
   "cell_type": "code",
   "execution_count": null,
   "metadata": {},
   "outputs": [],
   "source": [
    "dirichletBND = DirichletBoundary()\n",
    "dirichletBND:add(uinfty, \"u\", \"Boundary\")\n",
    "dirichletBND:add(winfty, \"w\", \"Boundary\")"
   ]
  },
  {
   "cell_type": "markdown",
   "metadata": {},
   "source": [
    "## F) Diskretisierung auf ganzem Gebiet"
   ]
  },
  {
   "cell_type": "code",
   "execution_count": null,
   "metadata": {},
   "outputs": [],
   "source": [
    "domainDisc = DomainDiscretization(approxSpace)\n",
    "domainDisc:add(elemDisc[\"u\"])\n",
    "domainDisc:add(elemDisc[\"w\"])\n",
    "domainDisc:add(dirichletBND)\n"
   ]
  },
  {
   "cell_type": "markdown",
   "metadata": {},
   "source": [
    "## G) Aufsetzen des Lösers (using 'util/solver_util.lua')"
   ]
  },
  {
   "cell_type": "code",
   "execution_count": null,
   "metadata": {},
   "outputs": [],
   "source": [
    "local solverDesc = {\n",
    "\t\n",
    "\t-- Newton's method for non-linear problem\n",
    "\ttype = \"newton\",\n",
    "\n",
    "  -- BiCGStab \n",
    "\tlinSolver = {\n",
    "\t type = \"bicgstab\",\n",
    "\t\n",
    "\t precond = {\n",
    "\t\t  type\t\t= \"gmg\",\n",
    "\t\t  approxSpace\t= approxSpace,\n",
    "\t\t  smoother\t= \"sgs\",\n",
    "\t\t  baseSolver\t= \"lu\"\n",
    "\t },\n",
    "\t\n",
    "  },\n",
    "\t\n",
    "}\n",
    "\n",
    "nlsolver = util.solver.CreateSolver(solverDesc)\n",
    "print (nlsolver)"
   ]
  },
  {
   "cell_type": "markdown",
   "metadata": {},
   "source": [
    "## H) Lösen"
   ]
  },
  {
   "cell_type": "code",
   "execution_count": null,
   "metadata": {},
   "outputs": [],
   "source": [
    "local u = GridFunction(approxSpace)\n",
    "u:set(0.0)\n",
    "\n",
    "Interpolate(\"MyInitialValueU\", u, \"u\")\n",
    "Interpolate(\"MyInitialValueW\", u, \"w\")\n",
    "\n",
    "local startTime = 0\n",
    "local endTime = tDiff\n",
    "local dt = (endTime-startTime)/200.0\n",
    "util.SolveNonlinearTimeProblem(u, domainDisc, nlsolver, VTKOutput(),\n",
    "\"CardioMonoDomain2D\", \"ImplEuler\", 1, startTime, endTime, dt);\n",
    "\n",
    "print(\"done\")\n"
   ]
  }
 ],
 "metadata": {
  "kernelspec": {
   "display_name": "UG4-Lua 0.1.0",
   "language": "lua",
   "name": "ug4_kernel"
  },
  "language_info": {
   "codemirror_mode": "lua",
   "file_extension": ".lua",
   "mimetype": "text/x-lua",
   "name": "lua",
   "version": "1.0"
  }
 },
 "nbformat": 4,
 "nbformat_minor": 2
}
